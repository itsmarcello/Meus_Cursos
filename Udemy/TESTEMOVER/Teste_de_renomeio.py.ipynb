{
  "cells": [
    {
      "cell_type": "markdown",
      "metadata": {
        "colab_type": "text",
        "id": "view-in-github"
      },
      "source": [
        "<a href=\"https://colab.research.google.com/github/itsmarcello/Meus_Cursos/blob/master/Curso_Cientista_de_Dadoss_PySpark.ipynb\" target=\"_parent\"><img src=\"https://colab.research.google.com/assets/colab-badge.svg\" alt=\"Open In Colab\"/></a>"
      ]
    },
    {
      "cell_type": "code",
      "execution_count": null,
      "metadata": {
        "id": "y72GbxJ4rvtA"
      },
      "outputs": [],
      "source": [
        "\n",
        "# instalar as dependências\n",
        "!apt-get install openjdk-8-jdk-headless -qq > /dev/null\n",
        "!wget -q https://archive.apache.org/dist/spark/spark-2.4.4/spark-2.4.4-bin-hadoop2.7.tgz\n",
        "!tar xf spark-2.4.4-bin-hadoop2.7.tgz\n",
        "!pip install -q findspark\n",
        "\n",
        "# instalar as dependências\n",
        "!apt-get install openjdk-8-jdk-headless -qq > /dev/null\n",
        "!wget -q https://archive.apache.org/dist/spark/spark-2.4.4/spark-2.4.4-bin-hadoop2.7.tgz\n",
        "!tar xf spark-2.4.4-bin-hadoop2.7.tgz\n",
        "!pip install -q findspark\n"
      ]
    },
    {
      "cell_type": "code",
      "execution_count": null,
      "metadata": {
        "id": "xKe2Ia26LrE-"
      },
      "outputs": [],
      "source": [
        "# iniciar uma sessão local e importar dados do Airbnb\n",
        "from pyspark.sql import SparkSession\n",
        "sc = SparkSession.builder.master('local[*]').getOrCreate()\n"
      ]
    },
    {
      "cell_type": "code",
      "execution_count": 1,
      "metadata": {
        "id": "j-S5uDCcQylv"
      },
      "outputs": [],
      "source": [
        "# create Spark context with Spark configuration\n",
        "from pyspark import SparkConf\n",
        "from pyspark import SparkContext\n",
        "conf = SparkConf().setAppName(\"read text file in pyspark\")\n",
        "sc = SparkContext(conf=conf)"
      ]
    },
    {
      "cell_type": "code",
      "execution_count": 15,
      "metadata": {
        "colab": {
          "base_uri": "https://localhost:8080/"
        },
        "id": "3Ze3tQVAMqu-",
        "outputId": "7c283241-928b-42f2-9c84-6e91ff930ff1"
      },
      "outputs": [
        {
          "data": {
            "text/plain": [
              "['toyota,gas,std,two,hatchback,fwd,four,62,4800,35,39,5348',\n",
              " 'toyota,gas,std,two,hatchback,fwd,four,62,4800,31,38,6338',\n",
              " 'toyota,gas,std,four,hatchback,fwd,four,62,4800,31,38,6488',\n",
              " 'toyota,gas,std,four,wagon,fwd,four,62,4800,31,37,6918',\n",
              " 'toyota,gas,std,four,sedan,fwd,four,70,4800,30,37,6938',\n",
              " 'toyota,gas,std,four,hatchback,fwd,four,70,4800,30,37,7198',\n",
              " 'toyota,gas,std,four,sedan,fwd,four,70,4800,38,47,7738',\n",
              " 'toyota,diesel,std,four,hatchback,fwd,four,56,4500,38,47,7788',\n",
              " 'toyota,gas,std,four,wagon,4wd,four,62,4800,27,32,7898',\n",
              " 'toyota,diesel,std,four,sedan,fwd,four,56,4500,34,36,7898',\n",
              " 'toyota,gas,std,two,sedan,rwd,four,70,4800,29,34,8058',\n",
              " 'toyota,gas,std,two,hatchback,rwd,four,70,4800,29,34,8238',\n",
              " 'toyota,gas,std,four,hatchback,fwd,four,70,4800,28,34,8358',\n",
              " 'toyota,gas,std,two,hardtop,rwd,four,116,4800,24,30,8449',\n",
              " 'toyota,gas,std,four,wagon,4wd,four,62,4800,27,32,8778',\n",
              " 'toyota,gas,std,four,sedan,fwd,four,92,4200,29,34,8948',\n",
              " 'toyota,gas,std,four,sedan,fwd,four,70,4800,28,34,9258',\n",
              " 'toyota,gas,std,two,sedan,rwd,four,112,6600,26,29,9298',\n",
              " 'toyota,gas,std,two,hatchback,rwd,four,112,6600,26,29,9538',\n",
              " 'toyota,gas,std,two,hardtop,rwd,four,116,4800,24,30,9639']"
            ]
          },
          "execution_count": 15,
          "metadata": {
            "tags": []
          },
          "output_type": "execute_result"
        }
      ],
      "source": [
        "# Criando uma lista em Python\n",
        "lista1 = [124, 901, 652, 102, 397]\n",
        "\n",
        "\n",
        "# Carregando dados de um CSV\n",
        "autoDataRDD = sc.textFile(\"carros.csv\")\n",
        "sc.textFile\n",
        "auto = sc.textFile(\"carros.csv\")\n",
        "# Mostrar CSV\n",
        "autoDataRDD.collect() #--> Print tudo\n",
        "autoDataRDD.first() #--> Print First Line\n",
        "autoDataRDD.take(5) #--> Print First Line\n",
        "autoDataRDD.cache() #--> Print OS Tipos dos \n",
        "\n",
        "# Print line one by line\n",
        "# for line in lines.collect():\n",
        "# \tprint(line)\n",
        " \n",
        "# Tranformação 1 :  Map() e criação de um novo RDD - Transformação - Lazy Evaluation\n",
        "tsvData = autoDataRDD.map(lambda x : x.replace(\",\",\"\\t\"))\n",
        "tsvData.take(5)\n",
        "\n",
        "# Tranformação 2 :Filter() e criação de um novo RDD - Transformação - Lazy Evaluation\n",
        "toyotaData = autoDataRDD.filter(lambda x: \"toyota\" in x)\n",
        "toyotaData.count()\n",
        "\n",
        "# Ação\n",
        "toyotaData.take(20)\n",
        "\n",
        "\n"
      ]
    },
    {
      "cell_type": "code",
      "execution_count": 18,
      "metadata": {
        "id": "4bvUSJbRsNvV"
      },
      "outputs": [],
      "source": [
        "# Gravar o Resultado em um Arquivo\n",
        "\n",
        "\n",
        "toyotaData.saveAsTextFile(\"meuscarros.csv\")\n",
        "\n"
      ]
    },
    {
      "cell_type": "code",
      "execution_count": null,
      "metadata": {},
      "outputs": [],
      "source": [
        "CAGAMOS NA IDENTCAO DO PROJETO"
      ]
    }
  ],
  "metadata": {
    "colab": {
      "authorship_tag": "ABX9TyMtXcWLhs1pKfS/Blp22fnU",
      "collapsed_sections": [],
      "include_colab_link": true,
      "name": "Curso Cientista de Dadoss- PySpark.ipynb",
      "provenance": []
    },
    "kernelspec": {
      "display_name": "Python 3",
      "name": "python3"
    },
    "language_info": {
      "name": "python"
    }
  },
  "nbformat": 4,
  "nbformat_minor": 0
}
